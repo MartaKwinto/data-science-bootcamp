{
  "nbformat": 4,
  "nbformat_minor": 0,
  "metadata": {
    "colab": {
      "provenance": [],
      "toc_visible": true,
      "authorship_tag": "ABX9TyPEJWdA7uptyHE5L6j1uDLU",
      "include_colab_link": true
    },
    "kernelspec": {
      "name": "python3",
      "display_name": "Python 3"
    },
    "language_info": {
      "name": "python"
    }
  },
  "cells": [
    {
      "cell_type": "markdown",
      "metadata": {
        "id": "view-in-github",
        "colab_type": "text"
      },
      "source": [
        "<a href=\"https://colab.research.google.com/github/MartaKwinto/data-science-bootcamp/blob/main/01_numpy_intro.ipynb\" target=\"_parent\"><img src=\"https://colab.research.google.com/assets/colab-badge.svg\" alt=\"Open In Colab\"/></a>"
      ]
    },
    {
      "cell_type": "markdown",
      "source": [
        "Numpy\n",
        "https://numpy.org/"
      ],
      "metadata": {
        "id": "Px-5Cm7reaxu"
      }
    },
    {
      "cell_type": "markdown",
      "source": [
        "# Podstawy"
      ],
      "metadata": {
        "id": "JH1IBrQseea1"
      }
    },
    {
      "cell_type": "code",
      "source": [
        "import numpy as np\n",
        "help(np.array)"
      ],
      "metadata": {
        "id": "nq0ORk3Let9g"
      },
      "execution_count": 3,
      "outputs": []
    },
    {
      "cell_type": "markdown",
      "source": [
        "1D Array"
      ],
      "metadata": {
        "id": "Uv1oNK8Mep76"
      }
    },
    {
      "cell_type": "code",
      "source": [
        "x = np.array([1, 3]) #tablica jednowymiarowa\n",
        "x"
      ],
      "metadata": {
        "id": "scssyPZVerYn",
        "outputId": "3d0e3c2d-09ba-4083-9c17-317e9f962bf2",
        "colab": {
          "base_uri": "https://localhost:8080/"
        }
      },
      "execution_count": 19,
      "outputs": [
        {
          "output_type": "execute_result",
          "data": {
            "text/plain": [
              "array([1, 3])"
            ]
          },
          "metadata": {},
          "execution_count": 19
        }
      ]
    },
    {
      "cell_type": "code",
      "source": [
        "print(x) #wyprintowanie tablicy"
      ],
      "metadata": {
        "id": "IESVVe1qfs2T"
      },
      "execution_count": null,
      "outputs": []
    },
    {
      "cell_type": "code",
      "source": [
        "type(x) #funkcja type sprawdza typ obiektu x"
      ],
      "metadata": {
        "id": "wWcKEfjvfw4v",
        "outputId": "5d2ee3bf-915f-4058-99f2-75395390e537",
        "colab": {
          "base_uri": "https://localhost:8080/"
        }
      },
      "execution_count": 20,
      "outputs": [
        {
          "output_type": "execute_result",
          "data": {
            "text/plain": [
              "numpy.ndarray"
            ]
          },
          "metadata": {},
          "execution_count": 20
        }
      ]
    },
    {
      "cell_type": "code",
      "source": [
        "x.ndim #wymiar tablicy (w skrócie - ilość zagnieżdżonych list)"
      ],
      "metadata": {
        "id": "mLTwa0Paf13B",
        "outputId": "4c51b7c0-aa14-4fce-b341-6e9b902e4fa2",
        "colab": {
          "base_uri": "https://localhost:8080/"
        }
      },
      "execution_count": 21,
      "outputs": [
        {
          "output_type": "execute_result",
          "data": {
            "text/plain": [
              "1"
            ]
          },
          "metadata": {},
          "execution_count": 21
        }
      ]
    },
    {
      "cell_type": "code",
      "source": [
        "x.shape #kształt tablicy -> w postaci tupla (normalnie (l.wierszy, l.kolumn), gdy jest 1 wiersz to wtedy (l.kolumn,))"
      ],
      "metadata": {
        "id": "kpyKD5Ebf9Sm",
        "outputId": "7ea1ca36-ea96-4bad-beaf-fb0eda8bd9ed",
        "colab": {
          "base_uri": "https://localhost:8080/"
        }
      },
      "execution_count": 22,
      "outputs": [
        {
          "output_type": "execute_result",
          "data": {
            "text/plain": [
              "(2,)"
            ]
          },
          "metadata": {},
          "execution_count": 22
        }
      ]
    },
    {
      "cell_type": "code",
      "source": [
        "x.size #liczba elementów tablicy"
      ],
      "metadata": {
        "id": "KWmLO7G6gIHp",
        "outputId": "a1f97d69-7fa6-408a-f379-12570bb29aa5",
        "colab": {
          "base_uri": "https://localhost:8080/"
        }
      },
      "execution_count": 23,
      "outputs": [
        {
          "output_type": "execute_result",
          "data": {
            "text/plain": [
              "2"
            ]
          },
          "metadata": {},
          "execution_count": 23
        }
      ]
    },
    {
      "cell_type": "code",
      "source": [
        "x.dtype #rodzaj danych"
      ],
      "metadata": {
        "id": "VHRqDXnigNNG",
        "outputId": "21c9d1c2-44b8-4407-99fd-5c09c6b2307a",
        "colab": {
          "base_uri": "https://localhost:8080/"
        }
      },
      "execution_count": 24,
      "outputs": [
        {
          "output_type": "execute_result",
          "data": {
            "text/plain": [
              "dtype('int64')"
            ]
          },
          "metadata": {},
          "execution_count": 24
        }
      ]
    },
    {
      "cell_type": "code",
      "source": [
        "x = np.array([1.3, 2.3, 1.4]) #tablica 1wymiarowa, dane typu float\n",
        "x"
      ],
      "metadata": {
        "id": "r_PDHAD4gZly",
        "outputId": "a050d6fa-53ce-49de-fa6d-d14ead386642",
        "colab": {
          "base_uri": "https://localhost:8080/"
        }
      },
      "execution_count": 25,
      "outputs": [
        {
          "output_type": "execute_result",
          "data": {
            "text/plain": [
              "array([1.3, 2.3, 1.4])"
            ]
          },
          "metadata": {},
          "execution_count": 25
        }
      ]
    },
    {
      "cell_type": "code",
      "source": [
        "x.dtype #typ danych - float"
      ],
      "metadata": {
        "id": "APwDN5T9gip-",
        "outputId": "9720faed-4e93-423e-b13e-553314adc04d",
        "colab": {
          "base_uri": "https://localhost:8080/"
        }
      },
      "execution_count": 26,
      "outputs": [
        {
          "output_type": "execute_result",
          "data": {
            "text/plain": [
              "dtype('float64')"
            ]
          },
          "metadata": {},
          "execution_count": 26
        }
      ]
    },
    {
      "cell_type": "markdown",
      "source": [
        "2D Array"
      ],
      "metadata": {
        "id": "VeIQzkq8goNj"
      }
    },
    {
      "cell_type": "code",
      "source": [
        "x = np.array([[1, 2], [-3, 1]]) #tablica 2wymiarowa\n",
        "x"
      ],
      "metadata": {
        "id": "EfRO43ZigtHJ",
        "outputId": "4bcc4236-9b2d-493c-c405-2ec9d130c9cf",
        "colab": {
          "base_uri": "https://localhost:8080/"
        }
      },
      "execution_count": 27,
      "outputs": [
        {
          "output_type": "execute_result",
          "data": {
            "text/plain": [
              "array([[ 1,  2],\n",
              "       [-3,  1]])"
            ]
          },
          "metadata": {},
          "execution_count": 27
        }
      ]
    },
    {
      "cell_type": "code",
      "source": [
        "x.ndim #wymiar tablicy"
      ],
      "metadata": {
        "id": "4LaELaBxhB-M",
        "outputId": "9af627dd-39eb-4463-b16a-c754f16947d1",
        "colab": {
          "base_uri": "https://localhost:8080/"
        }
      },
      "execution_count": 28,
      "outputs": [
        {
          "output_type": "execute_result",
          "data": {
            "text/plain": [
              "2"
            ]
          },
          "metadata": {},
          "execution_count": 28
        }
      ]
    },
    {
      "cell_type": "code",
      "source": [
        "x.shape #kształt tablicy"
      ],
      "metadata": {
        "id": "yq8VKrD7hOyp",
        "outputId": "758d4d30-e2f5-4e93-abd1-989a0bce2bd5",
        "colab": {
          "base_uri": "https://localhost:8080/"
        }
      },
      "execution_count": 29,
      "outputs": [
        {
          "output_type": "execute_result",
          "data": {
            "text/plain": [
              "(2, 2)"
            ]
          },
          "metadata": {},
          "execution_count": 29
        }
      ]
    },
    {
      "cell_type": "code",
      "source": [
        "x.size #liczba elementów w tablicy"
      ],
      "metadata": {
        "id": "lWEdaoFKh2wW",
        "outputId": "b345f5ad-2ffc-4a71-a3d6-d183ce92447f",
        "colab": {
          "base_uri": "https://localhost:8080/"
        }
      },
      "execution_count": 30,
      "outputs": [
        {
          "output_type": "execute_result",
          "data": {
            "text/plain": [
              "4"
            ]
          },
          "metadata": {},
          "execution_count": 30
        }
      ]
    }
  ]
}